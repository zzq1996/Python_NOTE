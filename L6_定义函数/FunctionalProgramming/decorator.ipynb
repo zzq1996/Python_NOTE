{
 "cells": [
  {
   "cell_type": "markdown",
   "metadata": {
    "collapsed": true,
    "pycharm": {
     "name": "#%% md\n"
    }
   },
   "source": [
    "### 装饰器（Decorator）\n",
    "在代码运行期间动态增加功能的方式，称之为“装饰器”（Decorator）。本质上，decorator就是一个返回函数的高阶函数。\n",
    "\n",
    "在面向对象（OOP）的设计模式中，decorator被称为装饰模式。OOP的装饰模式需要通过继承和组合来实现，而Python除了能支持OOP的decorator外，直接从语法层次支持decorator。Python的decorator可以用函数实现，也可以用类实现。\n",
    "\n",
    "decorator可以增强函数的功能，定义起来虽然有点复杂，但使用起来非常灵活和方便。"
   ]
  },
  {
   "cell_type": "code",
   "execution_count": 4,
   "outputs": [
    {
     "name": "stdout",
     "output_type": "stream",
     "text": [
      "call now():\n",
      "2023-1-1\n"
     ]
    }
   ],
   "source": [
    "\"\"\"\n",
    "给函数now()定义一个装饰器\n",
    "- log()函数是一个decorator，所以接受一个函数作为参数，并返回一个函数。原来的now()函数仍然存在，只是现在同名的now变量指向了新的函数，于是调用now()将执行新函数，即在log()函数中返回的wrapper()函数。\n",
    "- wrapper()函数的参数定义是(*args, **kw)，因此，wrapper()函数可以接受任意参数的调用。在wrapper()函数内，首先打印日志，再紧接着调用原始函数。\n",
    "\n",
    "- *args：表示可变参数，即传入参数的个数是可变的，可以是0,1...，这些可变参数在函数调用时自动组装为一个tuple。\n",
    "- **kw：表示关键字参数，允许你传入0个或任意个含参数名的参数，这些关键字参数在函数内部自动组装为一个dict。它可以扩展函数的功能。\n",
    "\"\"\"\n",
    "def log(func):\n",
    "    def wrapper(*args,**kw):\n",
    "        print('call %s():' %func.__name__)\n",
    "        return func(*args,**kw)\n",
    "    return wrapper()\n",
    "\n",
    "@log\n",
    "def now():\n",
    "    print('2023-1-1')\n",
    "\n",
    "now"
   ],
   "metadata": {
    "collapsed": false,
    "pycharm": {
     "name": "#%%\n"
    }
   }
  },
  {
   "cell_type": "code",
   "execution_count": null,
   "outputs": [],
   "source": [],
   "metadata": {
    "collapsed": false,
    "pycharm": {
     "name": "#%%\n"
    }
   }
  }
 ],
 "metadata": {
  "kernelspec": {
   "display_name": "Python 3",
   "language": "python",
   "name": "python3"
  },
  "language_info": {
   "codemirror_mode": {
    "name": "ipython",
    "version": 2
   },
   "file_extension": ".py",
   "mimetype": "text/x-python",
   "name": "python",
   "nbconvert_exporter": "python",
   "pygments_lexer": "ipython2",
   "version": "2.7.6"
  }
 },
 "nbformat": 4,
 "nbformat_minor": 0
}